{
 "cells": [
  {
   "cell_type": "markdown",
   "id": "liable-washington",
   "metadata": {
    "papermill": {
     "duration": 0.016214,
     "end_time": "2021-05-09T08:51:19.505793",
     "exception": false,
     "start_time": "2021-05-09T08:51:19.489579",
     "status": "completed"
    },
    "tags": []
   },
   "source": [
    "**This notebook is an exercise in the [Feature Engineering](https://www.kaggle.com/learn/feature-engineering) course.  You can reference the tutorial at [this link](https://www.kaggle.com/ryanholbrook/creating-features).**\n",
    "\n",
    "---\n"
   ]
  },
  {
   "cell_type": "markdown",
   "id": "portable-bicycle",
   "metadata": {
    "papermill": {
     "duration": 0.015246,
     "end_time": "2021-05-09T08:51:19.536141",
     "exception": false,
     "start_time": "2021-05-09T08:51:19.520895",
     "status": "completed"
    },
    "tags": []
   },
   "source": [
    "# Introduction #\n",
    "\n",
    "In this exercise you'll start developing the features you identified in Exercise 2 as having the most potential. As you work through this exercise, you might take a moment to look at the data documentation again and consider whether the features we're creating make sense from a real-world perspective, and whether there are any useful combinations that stand out to you.\n",
    "\n",
    "Run this cell to set everything up!"
   ]
  },
  {
   "cell_type": "code",
   "execution_count": 1,
   "id": "fluid-technical",
   "metadata": {
    "execution": {
     "iopub.execute_input": "2021-05-09T08:51:19.572356Z",
     "iopub.status.busy": "2021-05-09T08:51:19.571127Z",
     "iopub.status.idle": "2021-05-09T08:51:21.189390Z",
     "shell.execute_reply": "2021-05-09T08:51:21.189948Z"
    },
    "papermill": {
     "duration": 1.638249,
     "end_time": "2021-05-09T08:51:21.190255",
     "exception": false,
     "start_time": "2021-05-09T08:51:19.552006",
     "status": "completed"
    },
    "tags": []
   },
   "outputs": [],
   "source": [
    "# Setup feedback system\n",
    "from learntools.core import binder\n",
    "binder.bind(globals())\n",
    "from learntools.feature_engineering_new.ex3 import *\n",
    "\n",
    "import numpy as np\n",
    "import pandas as pd\n",
    "from sklearn.model_selection import cross_val_score\n",
    "from xgboost import XGBRegressor\n",
    "\n",
    "\n",
    "def score_dataset(X, y, model=XGBRegressor()):\n",
    "    # Label encoding for categoricals\n",
    "    for colname in X.select_dtypes([\"category\", \"object\"]):\n",
    "        X[colname], _ = X[colname].factorize()\n",
    "    # Metric for Housing competition is RMSLE (Root Mean Squared Log Error)\n",
    "    score = cross_val_score(\n",
    "        model, X, y, cv=5, scoring=\"neg_mean_squared_log_error\",\n",
    "    )\n",
    "    score = -1 * score.mean()\n",
    "    score = np.sqrt(score)\n",
    "    return score\n",
    "\n",
    "\n",
    "# Prepare data\n",
    "df = pd.read_csv(\"../input/fe-course-data/ames.csv\")\n",
    "X = df.copy()\n",
    "y = X.pop(\"SalePrice\")"
   ]
  },
  {
   "cell_type": "markdown",
   "id": "heated-nicaragua",
   "metadata": {
    "papermill": {
     "duration": 0.014681,
     "end_time": "2021-05-09T08:51:21.220597",
     "exception": false,
     "start_time": "2021-05-09T08:51:21.205916",
     "status": "completed"
    },
    "tags": []
   },
   "source": [
    "-------------------------------------------------------------------------------\n",
    "\n",
    "Let's start with a few mathematical combinations. We'll focus on features describing areas -- having the same units (square-feet) makes it easy to combine them in sensible ways. Since we're using XGBoost (a tree-based model), we'll focus on ratios and sums.\n",
    "\n",
    "# 1) Create Mathematical Transforms\n",
    "\n",
    "Create the following features:\n",
    "\n",
    "- `LivLotRatio`: the ratio of `GrLivArea` to `LotArea`\n",
    "- `Spaciousness`: the sum of `FirstFlrSF` and `SecondFlrSF` divided by `TotRmsAbvGrd`\n",
    "- `TotalOutsideSF`: the sum of `WoodDeckSF`, `OpenPorchSF`, `EnclosedPorch`, `Threeseasonporch`, and `ScreenPorch`"
   ]
  },
  {
   "cell_type": "code",
   "execution_count": 2,
   "id": "dying-broadcast",
   "metadata": {
    "execution": {
     "iopub.execute_input": "2021-05-09T08:51:21.254863Z",
     "iopub.status.busy": "2021-05-09T08:51:21.253924Z",
     "iopub.status.idle": "2021-05-09T08:51:21.292609Z",
     "shell.execute_reply": "2021-05-09T08:51:21.293104Z"
    },
    "lines_to_next_cell": 0,
    "papermill": {
     "duration": 0.057612,
     "end_time": "2021-05-09T08:51:21.293274",
     "exception": false,
     "start_time": "2021-05-09T08:51:21.235662",
     "status": "completed"
    },
    "tags": []
   },
   "outputs": [
    {
     "data": {
      "application/javascript": [
       "parent.postMessage({\"jupyterEvent\": \"custom.exercise_interaction\", \"data\": {\"outcomeType\": 1, \"valueTowardsCompletion\": 0.2, \"interactionType\": 1, \"questionType\": 2, \"questionId\": \"1_Q1\", \"learnToolsVersion\": \"0.3.4\", \"failureMessage\": \"\", \"exceptionClass\": \"\", \"trace\": \"\"}}, \"*\")"
      ],
      "text/plain": [
       "<IPython.core.display.Javascript object>"
      ]
     },
     "metadata": {},
     "output_type": "display_data"
    },
    {
     "data": {
      "text/markdown": [
       "<span style=\"color:#33cc33\">Correct</span>"
      ],
      "text/plain": [
       "Correct"
      ]
     },
     "metadata": {},
     "output_type": "display_data"
    }
   ],
   "source": [
    "# YOUR CODE HERE\n",
    "X_1 = pd.DataFrame()  # dataframe to hold new features\n",
    "\n",
    "X_1[\"LivLotRatio\"] = df.GrLivArea / df.LotArea\n",
    "X_1[\"Spaciousness\"] = (df.FirstFlrSF + df.SecondFlrSF) / df.TotRmsAbvGrd\n",
    "X_1[\"TotalOutsideSF\"] = df.WoodDeckSF + df.OpenPorchSF + df.EnclosedPorch + df.Threeseasonporch + df.ScreenPorch\n",
    "\n",
    "\n",
    "# Check your answer\n",
    "q_1.check()"
   ]
  },
  {
   "cell_type": "code",
   "execution_count": 3,
   "id": "everyday-disclaimer",
   "metadata": {
    "execution": {
     "iopub.execute_input": "2021-05-09T08:51:21.330736Z",
     "iopub.status.busy": "2021-05-09T08:51:21.330066Z",
     "iopub.status.idle": "2021-05-09T08:51:21.333175Z",
     "shell.execute_reply": "2021-05-09T08:51:21.333692Z"
    },
    "lines_to_next_cell": 0,
    "papermill": {
     "duration": 0.024073,
     "end_time": "2021-05-09T08:51:21.333872",
     "exception": false,
     "start_time": "2021-05-09T08:51:21.309799",
     "status": "completed"
    },
    "tags": []
   },
   "outputs": [],
   "source": [
    "# Lines below will give you a hint or solution code\n",
    "#q_1.hint()\n",
    "#q_1.solution()"
   ]
  },
  {
   "cell_type": "markdown",
   "id": "variable-reducing",
   "metadata": {
    "papermill": {
     "duration": 0.015898,
     "end_time": "2021-05-09T08:51:21.366063",
     "exception": false,
     "start_time": "2021-05-09T08:51:21.350165",
     "status": "completed"
    },
    "tags": []
   },
   "source": [
    "-------------------------------------------------------------------------------\n",
    "\n",
    "If you've discovered an interaction effect between a numeric feature and a categorical feature, you might want to model it explicitly using a one-hot encoding, like so:\n",
    "\n",
    "```\n",
    "# One-hot encode Categorical feature, adding a column prefix \"Cat\"\n",
    "X_new = pd.get_dummies(df.Categorical, prefix=\"Cat\")\n",
    "\n",
    "# Multiply row-by-row\n",
    "X_new = X_new.mul(df.Continuous, axis=0)\n",
    "\n",
    "# Join the new features to the feature set\n",
    "X = X.join(X_new)\n",
    "```\n",
    "\n",
    "# 2) Interaction with a Categorical\n",
    "\n",
    "We discovered an interaction between `BldgType` and `GrLivArea` in Exercise 2. Now create their interaction features."
   ]
  },
  {
   "cell_type": "code",
   "execution_count": 4,
   "id": "developmental-stanley",
   "metadata": {
    "execution": {
     "iopub.execute_input": "2021-05-09T08:51:21.410779Z",
     "iopub.status.busy": "2021-05-09T08:51:21.410032Z",
     "iopub.status.idle": "2021-05-09T08:51:21.425279Z",
     "shell.execute_reply": "2021-05-09T08:51:21.425906Z"
    },
    "lines_to_next_cell": 0,
    "papermill": {
     "duration": 0.043653,
     "end_time": "2021-05-09T08:51:21.426096",
     "exception": false,
     "start_time": "2021-05-09T08:51:21.382443",
     "status": "completed"
    },
    "tags": []
   },
   "outputs": [
    {
     "data": {
      "application/javascript": [
       "parent.postMessage({\"jupyterEvent\": \"custom.exercise_interaction\", \"data\": {\"outcomeType\": 1, \"valueTowardsCompletion\": 0.2, \"interactionType\": 1, \"questionType\": 2, \"questionId\": \"2_Q2\", \"learnToolsVersion\": \"0.3.4\", \"failureMessage\": \"\", \"exceptionClass\": \"\", \"trace\": \"\"}}, \"*\")"
      ],
      "text/plain": [
       "<IPython.core.display.Javascript object>"
      ]
     },
     "metadata": {},
     "output_type": "display_data"
    },
    {
     "data": {
      "text/markdown": [
       "<span style=\"color:#33cc33\">Correct</span>"
      ],
      "text/plain": [
       "Correct"
      ]
     },
     "metadata": {},
     "output_type": "display_data"
    }
   ],
   "source": [
    "# YOUR CODE HERE\n",
    "# One-hot encode BldgType. Use `prefix=\"Bldg\"` in `get_dummies`\n",
    "X_2 = pd.get_dummies(df.BldgType, prefix=\"Bldg\")\n",
    "X_2 = X_2.mul(df.GrLivArea, axis=0)\n",
    "\n",
    "\n",
    "# Check your answer\n",
    "q_2.check()"
   ]
  },
  {
   "cell_type": "code",
   "execution_count": 5,
   "id": "ongoing-detail",
   "metadata": {
    "execution": {
     "iopub.execute_input": "2021-05-09T08:51:21.464864Z",
     "iopub.status.busy": "2021-05-09T08:51:21.464157Z",
     "iopub.status.idle": "2021-05-09T08:51:21.468461Z",
     "shell.execute_reply": "2021-05-09T08:51:21.467839Z"
    },
    "lines_to_next_cell": 0,
    "papermill": {
     "duration": 0.024801,
     "end_time": "2021-05-09T08:51:21.468607",
     "exception": false,
     "start_time": "2021-05-09T08:51:21.443806",
     "status": "completed"
    },
    "tags": []
   },
   "outputs": [],
   "source": [
    "# Lines below will give you a hint or solution code\n",
    "#q_2.hint()\n",
    "#q_2.solution()"
   ]
  },
  {
   "cell_type": "markdown",
   "id": "unlike-combining",
   "metadata": {
    "lines_to_next_cell": 0,
    "papermill": {
     "duration": 0.017139,
     "end_time": "2021-05-09T08:51:21.503335",
     "exception": false,
     "start_time": "2021-05-09T08:51:21.486196",
     "status": "completed"
    },
    "tags": []
   },
   "source": [
    "# 3) Count Feature\n",
    "\n",
    "Let's try creating a feature that describes how many kinds of outdoor areas a dwelling has. Create a feature `PorchTypes` that counts how many of the following are greater than 0.0:\n",
    "\n",
    "```\n",
    "WoodDeckSF\n",
    "OpenPorchSF\n",
    "EnclosedPorch\n",
    "Threeseasonporch\n",
    "ScreenPorch\n",
    "```"
   ]
  },
  {
   "cell_type": "code",
   "execution_count": 6,
   "id": "electrical-algeria",
   "metadata": {
    "execution": {
     "iopub.execute_input": "2021-05-09T08:51:21.547620Z",
     "iopub.status.busy": "2021-05-09T08:51:21.546556Z",
     "iopub.status.idle": "2021-05-09T08:51:21.558729Z",
     "shell.execute_reply": "2021-05-09T08:51:21.559189Z"
    },
    "lines_to_next_cell": 0,
    "papermill": {
     "duration": 0.038337,
     "end_time": "2021-05-09T08:51:21.559372",
     "exception": false,
     "start_time": "2021-05-09T08:51:21.521035",
     "status": "completed"
    },
    "tags": []
   },
   "outputs": [
    {
     "data": {
      "application/javascript": [
       "parent.postMessage({\"jupyterEvent\": \"custom.exercise_interaction\", \"data\": {\"outcomeType\": 1, \"valueTowardsCompletion\": 0.2, \"interactionType\": 1, \"questionType\": 2, \"questionId\": \"3_Q3\", \"learnToolsVersion\": \"0.3.4\", \"failureMessage\": \"\", \"exceptionClass\": \"\", \"trace\": \"\"}}, \"*\")"
      ],
      "text/plain": [
       "<IPython.core.display.Javascript object>"
      ]
     },
     "metadata": {},
     "output_type": "display_data"
    },
    {
     "data": {
      "text/markdown": [
       "<span style=\"color:#33cc33\">Correct</span>"
      ],
      "text/plain": [
       "Correct"
      ]
     },
     "metadata": {},
     "output_type": "display_data"
    }
   ],
   "source": [
    "X_3 = pd.DataFrame()\n",
    "\n",
    "X_3[\"PorchTypes\"] = df[[\n",
    "    \"WoodDeckSF\",\n",
    "    \"OpenPorchSF\",\n",
    "    \"EnclosedPorch\",\n",
    "    \"Threeseasonporch\",\n",
    "    \"ScreenPorch\",\n",
    "]].gt(0.0).sum(axis=1)\n",
    "\n",
    "\n",
    "# Check your answer\n",
    "q_3.check()"
   ]
  },
  {
   "cell_type": "code",
   "execution_count": 7,
   "id": "ahead-month",
   "metadata": {
    "execution": {
     "iopub.execute_input": "2021-05-09T08:51:21.600622Z",
     "iopub.status.busy": "2021-05-09T08:51:21.599698Z",
     "iopub.status.idle": "2021-05-09T08:51:21.603014Z",
     "shell.execute_reply": "2021-05-09T08:51:21.603477Z"
    },
    "lines_to_next_cell": 0,
    "papermill": {
     "duration": 0.025598,
     "end_time": "2021-05-09T08:51:21.603656",
     "exception": false,
     "start_time": "2021-05-09T08:51:21.578058",
     "status": "completed"
    },
    "tags": []
   },
   "outputs": [],
   "source": [
    "# Lines below will give you a hint or solution code\n",
    "#q_3.hint()\n",
    "#q_3.solution()"
   ]
  },
  {
   "cell_type": "markdown",
   "id": "contrary-ontario",
   "metadata": {
    "papermill": {
     "duration": 0.018353,
     "end_time": "2021-05-09T08:51:21.640708",
     "exception": false,
     "start_time": "2021-05-09T08:51:21.622355",
     "status": "completed"
    },
    "tags": []
   },
   "source": [
    "# 4) Break Down a Categorical Feature\n",
    "\n",
    "`MSSubClass` describes the type of a dwelling:"
   ]
  },
  {
   "cell_type": "code",
   "execution_count": 8,
   "id": "noticed-mirror",
   "metadata": {
    "execution": {
     "iopub.execute_input": "2021-05-09T08:51:21.682334Z",
     "iopub.status.busy": "2021-05-09T08:51:21.681319Z",
     "iopub.status.idle": "2021-05-09T08:51:21.687932Z",
     "shell.execute_reply": "2021-05-09T08:51:21.688373Z"
    },
    "papermill": {
     "duration": 0.029091,
     "end_time": "2021-05-09T08:51:21.688579",
     "exception": false,
     "start_time": "2021-05-09T08:51:21.659488",
     "status": "completed"
    },
    "tags": []
   },
   "outputs": [
    {
     "data": {
      "text/plain": [
       "array(['One_Story_1946_and_Newer_All_Styles', 'Two_Story_1946_and_Newer',\n",
       "       'One_Story_PUD_1946_and_Newer',\n",
       "       'One_and_Half_Story_Finished_All_Ages', 'Split_Foyer',\n",
       "       'Two_Story_PUD_1946_and_Newer', 'Split_or_Multilevel',\n",
       "       'One_Story_1945_and_Older', 'Duplex_All_Styles_and_Ages',\n",
       "       'Two_Family_conversion_All_Styles_and_Ages',\n",
       "       'One_and_Half_Story_Unfinished_All_Ages',\n",
       "       'Two_Story_1945_and_Older', 'Two_and_Half_Story_All_Ages',\n",
       "       'One_Story_with_Finished_Attic_All_Ages',\n",
       "       'PUD_Multilevel_Split_Level_Foyer',\n",
       "       'One_and_Half_Story_PUD_All_Ages'], dtype=object)"
      ]
     },
     "execution_count": 8,
     "metadata": {},
     "output_type": "execute_result"
    }
   ],
   "source": [
    "df.MSSubClass.unique()"
   ]
  },
  {
   "cell_type": "markdown",
   "id": "restricted-jamaica",
   "metadata": {
    "papermill": {
     "duration": 0.01928,
     "end_time": "2021-05-09T08:51:21.726907",
     "exception": false,
     "start_time": "2021-05-09T08:51:21.707627",
     "status": "completed"
    },
    "tags": []
   },
   "source": [
    "You can see that there is a more general categorization described (roughly) by the first word of each category. Create a feature containing only these first words by splitting `MSSubClass` at the first underscore `_`. (Hint: In the `split` method use an argument `n=1`.)"
   ]
  },
  {
   "cell_type": "code",
   "execution_count": 9,
   "id": "external-earthquake",
   "metadata": {
    "execution": {
     "iopub.execute_input": "2021-05-09T08:51:21.771059Z",
     "iopub.status.busy": "2021-05-09T08:51:21.770066Z",
     "iopub.status.idle": "2021-05-09T08:51:21.797612Z",
     "shell.execute_reply": "2021-05-09T08:51:21.797024Z"
    },
    "lines_to_next_cell": 0,
    "papermill": {
     "duration": 0.051266,
     "end_time": "2021-05-09T08:51:21.797760",
     "exception": false,
     "start_time": "2021-05-09T08:51:21.746494",
     "status": "completed"
    },
    "tags": []
   },
   "outputs": [
    {
     "data": {
      "application/javascript": [
       "parent.postMessage({\"jupyterEvent\": \"custom.exercise_interaction\", \"data\": {\"outcomeType\": 1, \"valueTowardsCompletion\": 0.2, \"interactionType\": 1, \"questionType\": 2, \"questionId\": \"4_Q4\", \"learnToolsVersion\": \"0.3.4\", \"failureMessage\": \"\", \"exceptionClass\": \"\", \"trace\": \"\"}}, \"*\")"
      ],
      "text/plain": [
       "<IPython.core.display.Javascript object>"
      ]
     },
     "metadata": {},
     "output_type": "display_data"
    },
    {
     "data": {
      "text/markdown": [
       "<span style=\"color:#33cc33\">Correct</span>"
      ],
      "text/plain": [
       "Correct"
      ]
     },
     "metadata": {},
     "output_type": "display_data"
    }
   ],
   "source": [
    "X_4 = pd.DataFrame()\n",
    "\n",
    "# YOUR CODE HERE\n",
    "X_4[\"MSClass\"] = df.MSSubClass.str.split(\"_\", n=1, expand=True)[0]\n",
    "\n",
    "# Check your answer\n",
    "q_4.check()"
   ]
  },
  {
   "cell_type": "code",
   "execution_count": 10,
   "id": "decimal-force",
   "metadata": {
    "execution": {
     "iopub.execute_input": "2021-05-09T08:51:21.848304Z",
     "iopub.status.busy": "2021-05-09T08:51:21.847566Z",
     "iopub.status.idle": "2021-05-09T08:51:21.852236Z",
     "shell.execute_reply": "2021-05-09T08:51:21.852825Z"
    },
    "lines_to_next_cell": 0,
    "papermill": {
     "duration": 0.0347,
     "end_time": "2021-05-09T08:51:21.853013",
     "exception": false,
     "start_time": "2021-05-09T08:51:21.818313",
     "status": "completed"
    },
    "tags": []
   },
   "outputs": [],
   "source": [
    "# Lines below will give you a hint or solution code\n",
    "#q_4.hint()\n",
    "#q_4.solution()"
   ]
  },
  {
   "cell_type": "markdown",
   "id": "corresponding-liabilities",
   "metadata": {
    "papermill": {
     "duration": 0.028422,
     "end_time": "2021-05-09T08:51:21.903346",
     "exception": false,
     "start_time": "2021-05-09T08:51:21.874924",
     "status": "completed"
    },
    "tags": []
   },
   "source": [
    "# 5) Use a Grouped Transform\n",
    "\n",
    "The value of a home often depends on how it compares to typical homes in its neighborhood. Create a feature `MedNhbdArea` that describes the *median* of `GrLivArea` grouped on `Neighborhood`."
   ]
  },
  {
   "cell_type": "code",
   "execution_count": 11,
   "id": "direct-oxide",
   "metadata": {
    "execution": {
     "iopub.execute_input": "2021-05-09T08:51:21.969945Z",
     "iopub.status.busy": "2021-05-09T08:51:21.966173Z",
     "iopub.status.idle": "2021-05-09T08:51:21.983802Z",
     "shell.execute_reply": "2021-05-09T08:51:21.984303Z"
    },
    "lines_to_next_cell": 0,
    "papermill": {
     "duration": 0.053087,
     "end_time": "2021-05-09T08:51:21.984518",
     "exception": false,
     "start_time": "2021-05-09T08:51:21.931431",
     "status": "completed"
    },
    "tags": []
   },
   "outputs": [
    {
     "data": {
      "application/javascript": [
       "parent.postMessage({\"jupyterEvent\": \"custom.exercise_interaction\", \"data\": {\"outcomeType\": 1, \"valueTowardsCompletion\": 0.2, \"interactionType\": 1, \"questionType\": 2, \"questionId\": \"5_Q5\", \"learnToolsVersion\": \"0.3.4\", \"failureMessage\": \"\", \"exceptionClass\": \"\", \"trace\": \"\"}}, \"*\")"
      ],
      "text/plain": [
       "<IPython.core.display.Javascript object>"
      ]
     },
     "metadata": {},
     "output_type": "display_data"
    },
    {
     "data": {
      "text/markdown": [
       "<span style=\"color:#33cc33\">Correct</span>"
      ],
      "text/plain": [
       "Correct"
      ]
     },
     "metadata": {},
     "output_type": "display_data"
    }
   ],
   "source": [
    "X_5 = pd.DataFrame()\n",
    "\n",
    "# YOUR CODE HERE\n",
    "X_5[\"MedNhbdArea\"] = df.groupby(\"Neighborhood\")[\"GrLivArea\"].transform(\"median\")\n",
    "\n",
    "# Check your answer\n",
    "q_5.check()"
   ]
  },
  {
   "cell_type": "code",
   "execution_count": 12,
   "id": "medium-comparative",
   "metadata": {
    "execution": {
     "iopub.execute_input": "2021-05-09T08:51:22.033689Z",
     "iopub.status.busy": "2021-05-09T08:51:22.032709Z",
     "iopub.status.idle": "2021-05-09T08:51:22.036543Z",
     "shell.execute_reply": "2021-05-09T08:51:22.037016Z"
    },
    "lines_to_next_cell": 0,
    "papermill": {
     "duration": 0.029579,
     "end_time": "2021-05-09T08:51:22.037200",
     "exception": false,
     "start_time": "2021-05-09T08:51:22.007621",
     "status": "completed"
    },
    "tags": []
   },
   "outputs": [],
   "source": [
    "# Lines below will give you a hint or solution code\n",
    "#q_5.hint()\n",
    "#q_5.solution()"
   ]
  },
  {
   "cell_type": "markdown",
   "id": "tight-shadow",
   "metadata": {
    "papermill": {
     "duration": 0.021491,
     "end_time": "2021-05-09T08:51:22.081785",
     "exception": false,
     "start_time": "2021-05-09T08:51:22.060294",
     "status": "completed"
    },
    "tags": []
   },
   "source": [
    "Now you've made your first new feature set! If you like, you can run the cell below to score the model with all of your new features added:"
   ]
  },
  {
   "cell_type": "code",
   "execution_count": 13,
   "id": "stylish-senegal",
   "metadata": {
    "execution": {
     "iopub.execute_input": "2021-05-09T08:51:22.130181Z",
     "iopub.status.busy": "2021-05-09T08:51:22.129207Z",
     "iopub.status.idle": "2021-05-09T08:51:25.504321Z",
     "shell.execute_reply": "2021-05-09T08:51:25.503699Z"
    },
    "papermill": {
     "duration": 3.400011,
     "end_time": "2021-05-09T08:51:25.504519",
     "exception": false,
     "start_time": "2021-05-09T08:51:22.104508",
     "status": "completed"
    },
    "tags": []
   },
   "outputs": [
    {
     "data": {
      "text/plain": [
       "0.13847331710099203"
      ]
     },
     "execution_count": 13,
     "metadata": {},
     "output_type": "execute_result"
    }
   ],
   "source": [
    "X_new = X.join([X_1, X_2, X_3, X_4, X_5])\n",
    "score_dataset(X_new, y)"
   ]
  },
  {
   "cell_type": "markdown",
   "id": "typical-synthetic",
   "metadata": {
    "papermill": {
     "duration": 0.021876,
     "end_time": "2021-05-09T08:51:25.550806",
     "exception": false,
     "start_time": "2021-05-09T08:51:25.528930",
     "status": "completed"
    },
    "tags": []
   },
   "source": [
    "# Keep Going #\n",
    "\n",
    "[**Untangle spatial relationships**](https://www.kaggle.com/ryanholbrook/clustering-with-k-means) by adding cluster labels to your dataset."
   ]
  },
  {
   "cell_type": "markdown",
   "id": "creative-values",
   "metadata": {
    "papermill": {
     "duration": 0.021934,
     "end_time": "2021-05-09T08:51:25.594897",
     "exception": false,
     "start_time": "2021-05-09T08:51:25.572963",
     "status": "completed"
    },
    "tags": []
   },
   "source": [
    "---\n",
    "\n",
    "\n",
    "\n",
    "\n",
    "*Have questions or comments? Visit the [Learn Discussion forum](https://www.kaggle.com/learn-forum/221677) to chat with other Learners.*"
   ]
  }
 ],
 "metadata": {
  "kernelspec": {
   "display_name": "Python 3",
   "language": "python",
   "name": "python3"
  },
  "language_info": {
   "codemirror_mode": {
    "name": "ipython",
    "version": 3
   },
   "file_extension": ".py",
   "mimetype": "text/x-python",
   "name": "python",
   "nbconvert_exporter": "python",
   "pygments_lexer": "ipython3",
   "version": "3.7.9"
  },
  "papermill": {
   "default_parameters": {},
   "duration": 13.460853,
   "end_time": "2021-05-09T08:51:26.327625",
   "environment_variables": {},
   "exception": null,
   "input_path": "__notebook__.ipynb",
   "output_path": "__notebook__.ipynb",
   "parameters": {},
   "start_time": "2021-05-09T08:51:12.866772",
   "version": "2.3.2"
  }
 },
 "nbformat": 4,
 "nbformat_minor": 5
}
